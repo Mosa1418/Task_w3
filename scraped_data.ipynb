{
 "cells": [
  {
   "cell_type": "code",
   "execution_count": 38,
   "id": "26bc170d",
   "metadata": {},
   "outputs": [],
   "source": [
    "import requests\n",
    "from bs4 import BeautifulSoup\n",
    "import urllib3\n",
    "import pandas as pd\n",
    "urllib3.disable_warnings(urllib3.exceptions.InsecureRequestWarning)"
   ]
  },
  {
   "cell_type": "code",
   "execution_count": 39,
   "id": "028b3760",
   "metadata": {},
   "outputs": [],
   "source": [
    "# Lists to store scraped data\n",
    "\n",
    "all_products = []\n",
    "all_prices = []\n",
    "all_descriptions = []\n",
    "all_categories = []\n",
    "all_tags = []\n",
    "all_stock_status = []\n",
    "all_related_products = []\n",
    "\n",
    "# -------- Step 1: Scrape product names and prices from all 48 pages --------\n",
    "for page in range(1, 49):  \n",
    "    if page == 1:\n",
    "        url = \"https://scrapeme.live/shop/\"   # first page has a different URL\n",
    "    else:\n",
    "        url = f\"https://scrapeme.live/shop/page/{page}/\"\n",
    "\n",
    "    response = requests.get(url, verify=False)  # disable SSL verification (expired certificate)\n",
    "    soup = BeautifulSoup(response.text, \"html.parser\")\n",
    "\n",
    "    # find product names\n",
    "    products = soup.find_all(\"h2\", class_=\"woocommerce-loop-product__title\")\n",
    "    # find product prices\n",
    "    prices = soup.find_all('span', class_='woocommerce-Price-amount amount')\n",
    "\n",
    "    # append product names\n",
    "    for product in products:\n",
    "        all_products.append(product.text.strip())\n",
    "    # append product prices\n",
    "    for price in prices:\n",
    "        all_prices.append(price.text.strip())\n",
    "\n"
   ]
  },
  {
   "cell_type": "code",
   "execution_count": 40,
   "id": "2a136d18",
   "metadata": {},
   "outputs": [],
   "source": [
    "# Scrape extra details for each product\n",
    "for product_name in all_products:\n",
    "    # build product page URL\n",
    "    url = f'https://scrapeme.live/shop/{product_name}/'\n",
    "    response = requests.get(url, verify=False)\n",
    "    soup = BeautifulSoup(response.text, \"html.parser\")\n",
    "    # extract details\n",
    "    descriptions = soup.find_all('div', class_='woocommerce-product-details__short-description')\n",
    "    categories = soup.find_all('span', class_='posted_in')\n",
    "    tags = soup.find_all('span', class_='tagged_as')\n",
    "    stock_status = soup.find_all('p', class_='stock in-stock')\n",
    "    related_products = soup.find_all('h2', class_='woocommerce-loop-product__title')\n",
    "    # save details as plain text\n",
    "    for desc in descriptions:\n",
    "        all_descriptions.append(desc.text.strip())\n",
    "    for cat in categories:\n",
    "        all_categories.append(cat.text.strip())\n",
    "    for tg in tags:\n",
    "        all_tags.append(tg.text.strip())\n",
    "    for stock in stock_status:\n",
    "        all_stock_status.append(stock.text.strip())\n",
    "    for related in related_products:\n",
    "        all_related_products.append(related.text.strip())\n",
    "\n"
   ]
  },
  {
   "cell_type": "code",
   "execution_count": 46,
   "id": "fc04eed2",
   "metadata": {},
   "outputs": [],
   "source": [
    "#(group every 3 together)\n",
    "\n",
    "grouped_related = [\n",
    "    \", \".join(all_related_products[i:i+3])\n",
    "    for i in range(0, len(all_related_products), 3)\n",
    "]\n"
   ]
  },
  {
   "cell_type": "code",
   "execution_count": 47,
   "id": "77a9ba0e",
   "metadata": {},
   "outputs": [],
   "source": [
    "\n",
    "# 1) Clean prices (remove £0.00 and align length)\n",
    "clean_prices = [p for p in all_prices if p != \"£0.00\"]  \n",
    "\n",
    "#  same length as products\n",
    "clean_prices = clean_prices[:len(all_products)]\n"
   ]
  },
  {
   "cell_type": "code",
   "execution_count": null,
   "id": "1da6b047",
   "metadata": {},
   "outputs": [],
   "source": []
  },
  {
   "cell_type": "code",
   "execution_count": 48,
   "id": "930b44b1",
   "metadata": {},
   "outputs": [],
   "source": [
    "data = {\n",
    "    \"Product\": all_products,\n",
    "    \"Price\": clean_prices,\n",
    "    \"Description\": all_descriptions,\n",
    "    \"Category\": all_categories,\n",
    "    \"Tags\": all_tags,\n",
    "    \"Stock Status\": all_stock_status,\n",
    "    \"Related Products\": grouped_related\n",
    "}\n",
    "\n"
   ]
  },
  {
   "cell_type": "code",
   "execution_count": 49,
   "id": "6178dee7",
   "metadata": {},
   "outputs": [
    {
     "name": "stdout",
     "output_type": "stream",
     "text": [
      "755\n",
      "755\n",
      "755\n",
      "755\n",
      "755\n",
      "755\n",
      "755\n"
     ]
    }
   ],
   "source": [
    "print(len(all_products )) \n",
    "print(len(clean_prices) )\n",
    "print(len(all_descriptions) )\n",
    "print(len(all_categories))\n",
    "print(len(all_tags)) \n",
    "print(len(all_stock_status)) \n",
    "print(len(grouped_related))"
   ]
  },
  {
   "cell_type": "code",
   "execution_count": 50,
   "id": "79c4d36e",
   "metadata": {},
   "outputs": [],
   "source": [
    "df = pd.DataFrame(data)\n",
    "\n",
    "# Save to CSV\n",
    "df.to_csv(\"scraped_products.csv\", index=False)"
   ]
  },
  {
   "cell_type": "code",
   "execution_count": null,
   "id": "c5d54ffa",
   "metadata": {},
   "outputs": [],
   "source": []
  },
  {
   "cell_type": "code",
   "execution_count": null,
   "id": "620c6270",
   "metadata": {},
   "outputs": [],
   "source": []
  },
  {
   "cell_type": "code",
   "execution_count": null,
   "id": "b03ab00e",
   "metadata": {},
   "outputs": [],
   "source": []
  },
  {
   "cell_type": "code",
   "execution_count": null,
   "id": "d629ea53",
   "metadata": {},
   "outputs": [],
   "source": []
  }
 ],
 "metadata": {
  "kernelspec": {
   "display_name": "Python 3",
   "language": "python",
   "name": "python3"
  },
  "language_info": {
   "codemirror_mode": {
    "name": "ipython",
    "version": 3
   },
   "file_extension": ".py",
   "mimetype": "text/x-python",
   "name": "python",
   "nbconvert_exporter": "python",
   "pygments_lexer": "ipython3",
   "version": "3.13.7"
  }
 },
 "nbformat": 4,
 "nbformat_minor": 5
}
